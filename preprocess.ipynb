{
 "cells": [
  {
   "cell_type": "code",
   "execution_count": 1,
   "metadata": {},
   "outputs": [],
   "source": [
    "import numpy as np\n",
    "import pandas as pd"
   ]
  },
  {
   "cell_type": "code",
   "execution_count": 6,
   "metadata": {},
   "outputs": [],
   "source": [
    "aep = pd.read_csv('./data/AEP_hourly.csv')\n",
    "comed = pd.read_csv('./data/COMED_hourly.csv')\n",
    "dayton = pd.read_csv('./data/DAYTON_hourly.csv')\n",
    "deok = pd.read_csv('./data/DEOK_hourly.csv')\n",
    "dom = pd.read_csv('./data/DOM_hourly.csv')\n",
    "duq = pd.read_csv('./data/DUQ_hourly.csv')\n",
    "ekpc = pd.read_csv('./data/EKPC_hourly.csv')\n",
    "fe = pd.read_csv('./data/FE_hourly.csv')\n",
    "ni = pd.read_csv('./data/NI_hourly.csv')\n",
    "pjm = pd.read_csv('./data/PJM_Load_hourly.csv')\n",
    "pjme = pd.read_csv('./data/PJME_hourly.csv')\n",
    "pjmw = pd.read_csv('./data/PJMW_hourly.csv')"
   ]
  }
 ],
 "metadata": {
  "kernelspec": {
   "display_name": ".venv",
   "language": "python",
   "name": "python3"
  },
  "language_info": {
   "codemirror_mode": {
    "name": "ipython",
    "version": 3
   },
   "file_extension": ".py",
   "mimetype": "text/x-python",
   "name": "python",
   "nbconvert_exporter": "python",
   "pygments_lexer": "ipython3",
   "version": "3.11.0"
  }
 },
 "nbformat": 4,
 "nbformat_minor": 2
}
