{
 "cells": [
  {
   "cell_type": "code",
   "execution_count": null,
   "metadata": {},
   "outputs": [],
   "source": [
    "import numpy as np\n",
    "import pandas as pd\n",
    "from sklearn.model_selection import train_test_split, RandomizedSearchCV, cross_val_score\n",
    "from sklearn.preprocessing import StandardScaler\n",
    "from sklearn.metrics import mean_squared_error, r2_score\n",
    "from sklearn.ensemble import RandomForestRegressor, GradientBoostingRegressor\n",
    "from sklearn.linear_model import LinearRegression, Ridge\n",
    "from sklearn.svm import SVR\n",
    "from xgboost import XGBRegressor\n",
    "from lightgbm import LGBMRegressor"
   ]
  },
  {
   "cell_type": "code",
   "execution_count": null,
   "metadata": {},
   "outputs": [],
   "source": [
    "df = pd.read_csv('./data/dataset.csv')"
   ]
  },
  {
   "cell_type": "code",
   "execution_count": null,
   "metadata": {},
   "outputs": [],
   "source": [
    "X = df.drop('MW', axis=1)\n",
    "y = df['MW']  "
   ]
  },
  {
   "cell_type": "code",
   "execution_count": null,
   "metadata": {},
   "outputs": [],
   "source": [
    "X_train, X_test, y_train, y_test = train_test_split(X, y, test_size=0.2, random_state=42, shuffle=False)\n",
    "print(f\"Train size: {len(X_train)}, Test size: {len(X_test)}\")"
   ]
  },
  {
   "cell_type": "code",
   "execution_count": null,
   "metadata": {},
   "outputs": [],
   "source": [
    "scaler = StandardScaler()\n",
    "X_train_scaled = scaler.fit_transform(X_train)\n",
    "X_test_scaled = scaler.transform(X_test)"
   ]
  },
  {
   "cell_type": "code",
   "execution_count": 15,
   "metadata": {},
   "outputs": [],
   "source": [
    "models = {\n",
    "    \"Linear Regression\": LinearRegression(),\n",
    "    \"Ridge Regression\": Ridge(alpha=0.1),\n",
    "    \"Random Forest\": RandomForestRegressor(n_estimators=100, max_depth=None, max_features='log2', min_samples_split=5, min_samples_leaf=2, random_state=42),\n",
    "    \"Gradient Boosting\": GradientBoostingRegressor(n_estimators=200, learning_rate=0.1, max_depth=5, subsample=0.8, random_state=42),\n",
    "    \"XGBoost\": XGBRegressor(n_estimators=100, learning_rate=0.1, max_depth=5, colsample_bytree=0.8, random_state=42),\n",
    "    \"LightGBM\": LGBMRegressor(n_estimators=200, learning_rate=0.1, max_depth=5, num_leaves=31, random_state=42),\n",
    "    # \"SVR\": SVR(C=10.0, gamma='scale', kernel='rbf'),\n",
    "    \"KNN\": KNeighborsRegressor(n_neighbors=7, weights='distance', algorithm='auto', leaf_size=30, p=2),\n",
    "    \"Decision Tree\": DecisionTreeRegressor(random_state=42, max_depth=10, min_samples_split=5, min_samples_leaf=2, max_features='sqrt', criterion='squared_error', splitter='best')\n",
    "}"
   ]
  },
  {
   "cell_type": "code",
   "execution_count": 16,
   "metadata": {},
   "outputs": [
    {
     "name": "stdout",
     "output_type": "stream",
     "text": [
      "Evaluating Linear Regression...\n",
      "Model saved as ./models/Linear_Regression_model.pkl\n",
      "Evaluating Ridge Regression...\n",
      "Model saved as ./models/Ridge_Regression_model.pkl\n",
      "Evaluating Random Forest...\n",
      "Model saved as ./models/Random_Forest_model.pkl\n",
      "Evaluating Gradient Boosting...\n",
      "Model saved as ./models/Gradient_Boosting_model.pkl\n",
      "Evaluating XGBoost...\n",
      "Model saved as ./models/XGBoost_model.pkl\n",
      "Evaluating LightGBM...\n",
      "Model saved as ./models/LightGBM_model.pkl\n",
      "Evaluating KNN...\n",
      "Model saved as ./models/KNN_model.pkl\n",
      "Evaluating Decision Tree...\n",
      "Model saved as ./models/Decision_Tree_model.pkl\n"
     ]
    }
   ],
   "source": [
    "results = []\n",
    "\n",
    "for name, model in models.items():\n",
    "    print(f\"Evaluating {name}...\")\n",
    "    model.fit(X_train_scaled, y_train)\n",
    "\n",
    "    cv_scores = cross_val_score(model, X_train_scaled, y_train, scoring=\"neg_mean_squared_error\", cv=3, n_jobs=-1)\n",
    "    cv_rmse = np.sqrt(-cv_scores.mean())\n",
    "\n",
    "    y_pred = model.predict(X_test_scaled)\n",
    "    rmse = np.sqrt(mean_squared_error(y_test, y_pred))\n",
    "    r2 = r2_score(y_test, y_pred)\n",
    "\n",
    "    model_filename = f'./models/{name.replace(\" \", \"_\")}_model.pkl'\n",
    "    joblib.dump(model, model_filename)\n",
    "    print(f\"Model saved as {model_filename}\")\n",
    "\n",
    "    results.append({\"Model\": name, \"CV RMSE\": cv_rmse, \"Test RMSE\": rmse, \"R² Score\": r2})"
   ]
  },
  {
   "cell_type": "code",
   "execution_count": 17,
   "metadata": {},
   "outputs": [
    {
     "data": {
      "text/html": [
       "<div>\n",
       "<style scoped>\n",
       "    .dataframe tbody tr th:only-of-type {\n",
       "        vertical-align: middle;\n",
       "    }\n",
       "\n",
       "    .dataframe tbody tr th {\n",
       "        vertical-align: top;\n",
       "    }\n",
       "\n",
       "    .dataframe thead th {\n",
       "        text-align: right;\n",
       "    }\n",
       "</style>\n",
       "<table border=\"1\" class=\"dataframe\">\n",
       "  <thead>\n",
       "    <tr style=\"text-align: right;\">\n",
       "      <th></th>\n",
       "      <th>Model</th>\n",
       "      <th>CV RMSE</th>\n",
       "      <th>Test RMSE</th>\n",
       "      <th>R² Score</th>\n",
       "    </tr>\n",
       "  </thead>\n",
       "  <tbody>\n",
       "    <tr>\n",
       "      <th>0</th>\n",
       "      <td>Linear Regression</td>\n",
       "      <td>598.857813</td>\n",
       "      <td>829.129713</td>\n",
       "      <td>0.995925</td>\n",
       "    </tr>\n",
       "    <tr>\n",
       "      <th>1</th>\n",
       "      <td>Ridge Regression</td>\n",
       "      <td>598.856941</td>\n",
       "      <td>829.130038</td>\n",
       "      <td>0.995925</td>\n",
       "    </tr>\n",
       "    <tr>\n",
       "      <th>2</th>\n",
       "      <td>Random Forest</td>\n",
       "      <td>3598.173831</td>\n",
       "      <td>843.216644</td>\n",
       "      <td>0.995785</td>\n",
       "    </tr>\n",
       "    <tr>\n",
       "      <th>3</th>\n",
       "      <td>Gradient Boosting</td>\n",
       "      <td>4654.809351</td>\n",
       "      <td>418.667695</td>\n",
       "      <td>0.998961</td>\n",
       "    </tr>\n",
       "    <tr>\n",
       "      <th>4</th>\n",
       "      <td>XGBoost</td>\n",
       "      <td>3845.147595</td>\n",
       "      <td>631.855955</td>\n",
       "      <td>0.997633</td>\n",
       "    </tr>\n",
       "    <tr>\n",
       "      <th>5</th>\n",
       "      <td>LightGBM</td>\n",
       "      <td>3827.655982</td>\n",
       "      <td>580.862715</td>\n",
       "      <td>0.998000</td>\n",
       "    </tr>\n",
       "    <tr>\n",
       "      <th>6</th>\n",
       "      <td>KNN</td>\n",
       "      <td>4164.137054</td>\n",
       "      <td>2236.596753</td>\n",
       "      <td>0.970348</td>\n",
       "    </tr>\n",
       "    <tr>\n",
       "      <th>7</th>\n",
       "      <td>Decision Tree</td>\n",
       "      <td>4682.667498</td>\n",
       "      <td>1281.559440</td>\n",
       "      <td>0.990265</td>\n",
       "    </tr>\n",
       "  </tbody>\n",
       "</table>\n",
       "</div>"
      ],
      "text/plain": [
       "               Model      CV RMSE    Test RMSE  R² Score\n",
       "0  Linear Regression   598.857813   829.129713  0.995925\n",
       "1   Ridge Regression   598.856941   829.130038  0.995925\n",
       "2      Random Forest  3598.173831   843.216644  0.995785\n",
       "3  Gradient Boosting  4654.809351   418.667695  0.998961\n",
       "4            XGBoost  3845.147595   631.855955  0.997633\n",
       "5           LightGBM  3827.655982   580.862715  0.998000\n",
       "6                KNN  4164.137054  2236.596753  0.970348\n",
       "7      Decision Tree  4682.667498  1281.559440  0.990265"
      ]
     },
     "execution_count": 17,
     "metadata": {},
     "output_type": "execute_result"
    }
   ],
   "source": [
    "results_df = pd.DataFrame(results)\n",
    "results_df"
   ]
  },
  {
   "cell_type": "code",
   "execution_count": null,
   "metadata": {},
   "outputs": [],
   "source": [
    "results_df.to_csv('results.csv',index=False)"
   ]
  }
 ],
 "metadata": {
  "kernelspec": {
   "display_name": ".venv",
   "language": "python",
   "name": "python3"
  },
  "language_info": {
   "codemirror_mode": {
    "name": "ipython",
    "version": 3
   },
   "file_extension": ".py",
   "mimetype": "text/x-python",
   "name": "python",
   "nbconvert_exporter": "python",
   "pygments_lexer": "ipython3",
   "version": "3.11.0"
  }
 },
 "nbformat": 4,
 "nbformat_minor": 2
}
