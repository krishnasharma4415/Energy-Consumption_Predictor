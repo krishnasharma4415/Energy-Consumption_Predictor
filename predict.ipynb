{
 "cells": [
  {
   "cell_type": "code",
   "execution_count": 9,
   "metadata": {},
   "outputs": [],
   "source": [
    "import pandas as pd\n",
    "import joblib\n",
    "import numpy as np"
   ]
  },
  {
   "cell_type": "code",
   "execution_count": 12,
   "metadata": {},
   "outputs": [],
   "source": [
    "def predict_energy_consumption(input_timestamp, model_path, scaler_path):\n",
    "    try:\n",
    "        model = joblib.load(model_path)\n",
    "        scaler = joblib.load(scaler_path)\n",
    "\n",
    "        datetime_obj = pd.to_datetime(input_timestamp)\n",
    "\n",
    "        features = {\n",
    "            \"Year\": datetime_obj.year,\n",
    "            \"Month\": datetime_obj.month,\n",
    "            \"Day\": datetime_obj.day,\n",
    "            \"Hour\": datetime_obj.hour,\n",
    "            \"DayOfWeek\": datetime_obj.dayofweek,\n",
    "            \"IsWeekend\": 1 if datetime_obj.dayofweek >= 5 else 0,\n",
    "            \"MW_Lag_1\": 0,        # Default value\n",
    "            \"MW_Lag_24\": 0,       # Default value\n",
    "            \"MW_Lag_168\": 0       # Default value\n",
    "        }\n",
    "\n",
    "        input_df = pd.DataFrame([features])\n",
    "\n",
    "        input_scaled = scaler.transform(input_df)\n",
    "\n",
    "        predicted_mw = model.predict(input_scaled)\n",
    "\n",
    "        return predicted_mw[0]\n",
    "    except Exception as e:\n",
    "        print(f\"An error occurred: {e}\")\n",
    "        return None"
   ]
  },
  {
   "cell_type": "code",
   "execution_count": 13,
   "metadata": {},
   "outputs": [
    {
     "name": "stdout",
     "output_type": "stream",
     "text": [
      "Predicted Energy Consumption (MW) for 2004-12-31 01:00:00: 1067.10\n"
     ]
    }
   ],
   "source": [
    "model_path='./models/Random_Forest_model.pkl'\n",
    "scaler_path='./models/scaler.pkl'\n",
    "\n",
    "input_timestamp = \"2004-12-31 01:00:00\"\n",
    "predicted_mw = predict_energy_consumption(input_timestamp,model_path,scaler_path)\n",
    "\n",
    "if predicted_mw is not None:\n",
    "    print(f\"Predicted Energy Consumption (MW) for {input_timestamp}: {predicted_mw:.2f}\")"
   ]
  }
 ],
 "metadata": {
  "kernelspec": {
   "display_name": ".venv",
   "language": "python",
   "name": "python3"
  },
  "language_info": {
   "codemirror_mode": {
    "name": "ipython",
    "version": 3
   },
   "file_extension": ".py",
   "mimetype": "text/x-python",
   "name": "python",
   "nbconvert_exporter": "python",
   "pygments_lexer": "ipython3",
   "version": "3.11.0"
  }
 },
 "nbformat": 4,
 "nbformat_minor": 2
}
